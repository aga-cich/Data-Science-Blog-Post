{
 "cells": [
  {
   "cell_type": "markdown",
   "metadata": {},
   "source": [
    "# Business Understanding\n",
    "\n",
    "We want to know what would be the most popular way to make a chocolate bar that would be at least 'Highly Recommended' i.e. with Rating equal or greater than 3.5.\n",
    "\n",
    "Q1: What cocoa percentage should we use?\n",
    "\n",
    "Q2: Where should we buy the beans?\n",
    "\n",
    "Q3: What taste characteristics are valuable? What should we aim for?\n",
    "\n",
    "Q4: Is there a difference between the ingredients of the very best bars compared to to the very worst bars?"
   ]
  },
  {
   "cell_type": "markdown",
   "metadata": {},
   "source": [
    "# Data Understanding"
   ]
  },
  {
   "cell_type": "markdown",
   "metadata": {},
   "source": [
    "## Import the libraries"
   ]
  },
  {
   "cell_type": "code",
   "execution_count": 31,
   "metadata": {},
   "outputs": [],
   "source": [
    "import pandas as pd\n",
    "import numpy as np\n",
    "import seaborn as sns\n",
    "import matplotlib.pyplot as plt\n",
    "import collections\n",
    "from itertools import combinations\n",
    "\n",
    "sns.set(rc={'figure.figsize':(11.7,8.27)})\n",
    "sns.set_style('whitegrid')\n"
   ]
  },
  {
   "cell_type": "markdown",
   "metadata": {},
   "source": [
    "## Load the data"
   ]
  },
  {
   "cell_type": "code",
   "execution_count": 32,
   "metadata": {
    "scrolled": true
   },
   "outputs": [
    {
     "data": {
      "text/html": [
       "<div>\n",
       "<style scoped>\n",
       "    .dataframe tbody tr th:only-of-type {\n",
       "        vertical-align: middle;\n",
       "    }\n",
       "\n",
       "    .dataframe tbody tr th {\n",
       "        vertical-align: top;\n",
       "    }\n",
       "\n",
       "    .dataframe thead th {\n",
       "        text-align: right;\n",
       "    }\n",
       "</style>\n",
       "<table border=\"1\" class=\"dataframe\">\n",
       "  <thead>\n",
       "    <tr style=\"text-align: right;\">\n",
       "      <th></th>\n",
       "      <th>REF</th>\n",
       "      <th>Company (Manufacturer)</th>\n",
       "      <th>Company Location</th>\n",
       "      <th>Review Date</th>\n",
       "      <th>Country of Bean Origin</th>\n",
       "      <th>Specific Bean Origin or Bar Name</th>\n",
       "      <th>Cocoa Percent</th>\n",
       "      <th>Ingredients</th>\n",
       "      <th>Most Memorable Characteristics</th>\n",
       "      <th>Rating</th>\n",
       "    </tr>\n",
       "  </thead>\n",
       "  <tbody>\n",
       "    <tr>\n",
       "      <th>0</th>\n",
       "      <td>2454</td>\n",
       "      <td>5150</td>\n",
       "      <td>U.S.A.</td>\n",
       "      <td>2019</td>\n",
       "      <td>Madagascar</td>\n",
       "      <td>Bejofo Estate, batch 1</td>\n",
       "      <td>0.76</td>\n",
       "      <td>3- B,S,C</td>\n",
       "      <td>cocoa, blackberry, full body</td>\n",
       "      <td>3.75</td>\n",
       "    </tr>\n",
       "    <tr>\n",
       "      <th>1</th>\n",
       "      <td>2458</td>\n",
       "      <td>5150</td>\n",
       "      <td>U.S.A.</td>\n",
       "      <td>2019</td>\n",
       "      <td>Dominican Republic</td>\n",
       "      <td>Zorzal, batch 1</td>\n",
       "      <td>0.76</td>\n",
       "      <td>3- B,S,C</td>\n",
       "      <td>cocoa, vegetal, savory</td>\n",
       "      <td>3.50</td>\n",
       "    </tr>\n",
       "    <tr>\n",
       "      <th>2</th>\n",
       "      <td>2454</td>\n",
       "      <td>5150</td>\n",
       "      <td>U.S.A.</td>\n",
       "      <td>2019</td>\n",
       "      <td>Tanzania</td>\n",
       "      <td>Kokoa Kamili, batch 1</td>\n",
       "      <td>0.76</td>\n",
       "      <td>3- B,S,C</td>\n",
       "      <td>rich cocoa, fatty, bready</td>\n",
       "      <td>3.25</td>\n",
       "    </tr>\n",
       "    <tr>\n",
       "      <th>3</th>\n",
       "      <td>797</td>\n",
       "      <td>A. Morin</td>\n",
       "      <td>France</td>\n",
       "      <td>2012</td>\n",
       "      <td>Peru</td>\n",
       "      <td>Peru</td>\n",
       "      <td>0.63</td>\n",
       "      <td>4- B,S,C,L</td>\n",
       "      <td>fruity, melon, roasty</td>\n",
       "      <td>3.75</td>\n",
       "    </tr>\n",
       "    <tr>\n",
       "      <th>4</th>\n",
       "      <td>797</td>\n",
       "      <td>A. Morin</td>\n",
       "      <td>France</td>\n",
       "      <td>2012</td>\n",
       "      <td>Bolivia</td>\n",
       "      <td>Bolivia</td>\n",
       "      <td>0.7</td>\n",
       "      <td>4- B,S,C,L</td>\n",
       "      <td>vegetal, nutty</td>\n",
       "      <td>3.50</td>\n",
       "    </tr>\n",
       "  </tbody>\n",
       "</table>\n",
       "</div>"
      ],
      "text/plain": [
       "    REF Company (Manufacturer) Company Location  Review Date  \\\n",
       "0  2454                   5150           U.S.A.         2019   \n",
       "1  2458                   5150           U.S.A.         2019   \n",
       "2  2454                   5150           U.S.A.         2019   \n",
       "3   797               A. Morin           France         2012   \n",
       "4   797               A. Morin           France         2012   \n",
       "\n",
       "  Country of Bean Origin Specific Bean Origin or Bar Name Cocoa Percent  \\\n",
       "0             Madagascar           Bejofo Estate, batch 1          0.76   \n",
       "1     Dominican Republic                  Zorzal, batch 1          0.76   \n",
       "2               Tanzania            Kokoa Kamili, batch 1          0.76   \n",
       "3                   Peru                             Peru          0.63   \n",
       "4                Bolivia                          Bolivia           0.7   \n",
       "\n",
       "  Ingredients Most Memorable Characteristics  Rating  \n",
       "0    3- B,S,C   cocoa, blackberry, full body    3.75  \n",
       "1    3- B,S,C         cocoa, vegetal, savory    3.50  \n",
       "2    3- B,S,C      rich cocoa, fatty, bready    3.25  \n",
       "3  4- B,S,C,L          fruity, melon, roasty    3.75  \n",
       "4  4- B,S,C,L                 vegetal, nutty    3.50  "
      ]
     },
     "execution_count": 32,
     "metadata": {},
     "output_type": "execute_result"
    }
   ],
   "source": [
    "df_cocoa = pd.read_excel('flavors_of_cacao.xlsx')\n",
    "\n",
    "df_cocoa.head(5)"
   ]
  },
  {
   "cell_type": "markdown",
   "metadata": {},
   "source": [
    "## First look at the data"
   ]
  },
  {
   "cell_type": "markdown",
   "metadata": {},
   "source": [
    "How many rows and columns do we have here?"
   ]
  },
  {
   "cell_type": "code",
   "execution_count": 33,
   "metadata": {},
   "outputs": [
    {
     "name": "stdout",
     "output_type": "stream",
     "text": [
      "There are 2333 rows and 10 columns in the dataset.\n"
     ]
    }
   ],
   "source": [
    "num_rows = df_cocoa.shape[0] #Provide the number of rows in the dataset\n",
    "num_cols = df_cocoa.shape[1] #Provide the number of columns in the dataset\n",
    "\n",
    "print(\"There are\", num_rows, \"rows and\", num_cols, \"columns in the dataset.\")"
   ]
  },
  {
   "cell_type": "markdown",
   "metadata": {},
   "source": [
    "Are there any columns with missing values?"
   ]
  },
  {
   "cell_type": "code",
   "execution_count": 34,
   "metadata": {},
   "outputs": [
    {
     "name": "stdout",
     "output_type": "stream",
     "text": [
      "Columns with missing values:\n",
      " Ingredients\n"
     ]
    }
   ],
   "source": [
    "print(\"Columns with missing values:\\n\", *set(df_cocoa.columns[df_cocoa.isnull().sum()>0]))"
   ]
  },
  {
   "cell_type": "markdown",
   "metadata": {},
   "source": [
    "Let's look at the rows with a missing value for the 'Ingredients' column. How many rows are we missing?"
   ]
  },
  {
   "cell_type": "code",
   "execution_count": 35,
   "metadata": {},
   "outputs": [
    {
     "name": "stdout",
     "output_type": "stream",
     "text": [
      "We are missing 88 rows:\n"
     ]
    },
    {
     "data": {
      "text/html": [
       "<div>\n",
       "<style scoped>\n",
       "    .dataframe tbody tr th:only-of-type {\n",
       "        vertical-align: middle;\n",
       "    }\n",
       "\n",
       "    .dataframe tbody tr th {\n",
       "        vertical-align: top;\n",
       "    }\n",
       "\n",
       "    .dataframe thead th {\n",
       "        text-align: right;\n",
       "    }\n",
       "</style>\n",
       "<table border=\"1\" class=\"dataframe\">\n",
       "  <thead>\n",
       "    <tr style=\"text-align: right;\">\n",
       "      <th></th>\n",
       "      <th>REF</th>\n",
       "      <th>Company (Manufacturer)</th>\n",
       "      <th>Company Location</th>\n",
       "      <th>Review Date</th>\n",
       "      <th>Country of Bean Origin</th>\n",
       "      <th>Specific Bean Origin or Bar Name</th>\n",
       "      <th>Cocoa Percent</th>\n",
       "      <th>Ingredients</th>\n",
       "      <th>Most Memorable Characteristics</th>\n",
       "      <th>Rating</th>\n",
       "    </tr>\n",
       "  </thead>\n",
       "  <tbody>\n",
       "    <tr>\n",
       "      <th>80</th>\n",
       "      <td>1964</td>\n",
       "      <td>Amazing Cacao</td>\n",
       "      <td>Russia</td>\n",
       "      <td>2017</td>\n",
       "      <td>Peru</td>\n",
       "      <td>Platan Bajo</td>\n",
       "      <td>0.7</td>\n",
       "      <td>NaN</td>\n",
       "      <td>few grits, blackcherry, licorice</td>\n",
       "      <td>3.50</td>\n",
       "    </tr>\n",
       "    <tr>\n",
       "      <th>81</th>\n",
       "      <td>1964</td>\n",
       "      <td>Amazing Cacao</td>\n",
       "      <td>Russia</td>\n",
       "      <td>2017</td>\n",
       "      <td>Peru</td>\n",
       "      <td>Maranon</td>\n",
       "      <td>0.7</td>\n",
       "      <td>NaN</td>\n",
       "      <td>raisins, pungent</td>\n",
       "      <td>3.00</td>\n",
       "    </tr>\n",
       "    <tr>\n",
       "      <th>161</th>\n",
       "      <td>486</td>\n",
       "      <td>Artisan du Chocolat</td>\n",
       "      <td>U.K.</td>\n",
       "      <td>2010</td>\n",
       "      <td>Venezuela</td>\n",
       "      <td>Venezuela</td>\n",
       "      <td>1</td>\n",
       "      <td>NaN</td>\n",
       "      <td>very nutty, very bitter</td>\n",
       "      <td>1.75</td>\n",
       "    </tr>\n",
       "    <tr>\n",
       "      <th>283</th>\n",
       "      <td>81</td>\n",
       "      <td>Bonnat</td>\n",
       "      <td>France</td>\n",
       "      <td>2006</td>\n",
       "      <td>Blend</td>\n",
       "      <td>One Hundred</td>\n",
       "      <td>1</td>\n",
       "      <td>NaN</td>\n",
       "      <td>acidic, bitter, dry</td>\n",
       "      <td>1.50</td>\n",
       "    </tr>\n",
       "    <tr>\n",
       "      <th>307</th>\n",
       "      <td>341</td>\n",
       "      <td>Bouga Cacao (Tulicorp)</td>\n",
       "      <td>Ecuador</td>\n",
       "      <td>2009</td>\n",
       "      <td>Ecuador</td>\n",
       "      <td>El Oro, Hacienda de Oro</td>\n",
       "      <td>1</td>\n",
       "      <td>NaN</td>\n",
       "      <td>cardboard, very bitter, floral</td>\n",
       "      <td>1.50</td>\n",
       "    </tr>\n",
       "    <tr>\n",
       "      <th>...</th>\n",
       "      <td>...</td>\n",
       "      <td>...</td>\n",
       "      <td>...</td>\n",
       "      <td>...</td>\n",
       "      <td>...</td>\n",
       "      <td>...</td>\n",
       "      <td>...</td>\n",
       "      <td>...</td>\n",
       "      <td>...</td>\n",
       "      <td>...</td>\n",
       "    </tr>\n",
       "    <tr>\n",
       "      <th>2240</th>\n",
       "      <td>153</td>\n",
       "      <td>Vintage Plantations (Tulicorp)</td>\n",
       "      <td>U.S.A.</td>\n",
       "      <td>2007</td>\n",
       "      <td>Ecuador</td>\n",
       "      <td>Los Rios, Rancho Grande 2004/2007</td>\n",
       "      <td>0.75</td>\n",
       "      <td>NaN</td>\n",
       "      <td>cocoa,earthy,very astringent</td>\n",
       "      <td>3.00</td>\n",
       "    </tr>\n",
       "    <tr>\n",
       "      <th>2242</th>\n",
       "      <td>153</td>\n",
       "      <td>Vintage Plantations (Tulicorp)</td>\n",
       "      <td>U.S.A.</td>\n",
       "      <td>2007</td>\n",
       "      <td>Ecuador</td>\n",
       "      <td>Los Rios, Rancho Grande 2004/2007</td>\n",
       "      <td>1</td>\n",
       "      <td>NaN</td>\n",
       "      <td>bland, mild fruit, strong bitter</td>\n",
       "      <td>2.00</td>\n",
       "    </tr>\n",
       "    <tr>\n",
       "      <th>2243</th>\n",
       "      <td>153</td>\n",
       "      <td>Vintage Plantations (Tulicorp)</td>\n",
       "      <td>U.S.A.</td>\n",
       "      <td>2007</td>\n",
       "      <td>Ecuador</td>\n",
       "      <td>Los Rios, Rancho Grande 2004/2007</td>\n",
       "      <td>0.9</td>\n",
       "      <td>NaN</td>\n",
       "      <td>some fruit, strong bitter</td>\n",
       "      <td>2.00</td>\n",
       "    </tr>\n",
       "    <tr>\n",
       "      <th>2259</th>\n",
       "      <td>733</td>\n",
       "      <td>Whittakers</td>\n",
       "      <td>New Zealand</td>\n",
       "      <td>2011</td>\n",
       "      <td>Ghana</td>\n",
       "      <td>Ghana</td>\n",
       "      <td>0.72</td>\n",
       "      <td>NaN</td>\n",
       "      <td>sticky, dry, vanilla dominates</td>\n",
       "      <td>2.50</td>\n",
       "    </tr>\n",
       "    <tr>\n",
       "      <th>2269</th>\n",
       "      <td>1109</td>\n",
       "      <td>Willie's Cacao</td>\n",
       "      <td>U.K.</td>\n",
       "      <td>2013</td>\n",
       "      <td>Indonesia</td>\n",
       "      <td>Java, Indonesian Black</td>\n",
       "      <td>1</td>\n",
       "      <td>NaN</td>\n",
       "      <td>fruit, strong smoke, bitter</td>\n",
       "      <td>2.25</td>\n",
       "    </tr>\n",
       "  </tbody>\n",
       "</table>\n",
       "<p>88 rows × 10 columns</p>\n",
       "</div>"
      ],
      "text/plain": [
       "       REF          Company (Manufacturer) Company Location  Review Date  \\\n",
       "80    1964                   Amazing Cacao           Russia         2017   \n",
       "81    1964                   Amazing Cacao           Russia         2017   \n",
       "161    486             Artisan du Chocolat             U.K.         2010   \n",
       "283     81                          Bonnat           France         2006   \n",
       "307    341          Bouga Cacao (Tulicorp)          Ecuador         2009   \n",
       "...    ...                             ...              ...          ...   \n",
       "2240   153  Vintage Plantations (Tulicorp)           U.S.A.         2007   \n",
       "2242   153  Vintage Plantations (Tulicorp)           U.S.A.         2007   \n",
       "2243   153  Vintage Plantations (Tulicorp)           U.S.A.         2007   \n",
       "2259   733                      Whittakers      New Zealand         2011   \n",
       "2269  1109                  Willie's Cacao             U.K.         2013   \n",
       "\n",
       "     Country of Bean Origin   Specific Bean Origin or Bar Name Cocoa Percent  \\\n",
       "80                     Peru                        Platan Bajo           0.7   \n",
       "81                     Peru                            Maranon           0.7   \n",
       "161               Venezuela                          Venezuela             1   \n",
       "283                   Blend                        One Hundred             1   \n",
       "307                 Ecuador            El Oro, Hacienda de Oro             1   \n",
       "...                     ...                                ...           ...   \n",
       "2240                Ecuador  Los Rios, Rancho Grande 2004/2007          0.75   \n",
       "2242                Ecuador  Los Rios, Rancho Grande 2004/2007             1   \n",
       "2243                Ecuador  Los Rios, Rancho Grande 2004/2007           0.9   \n",
       "2259                  Ghana                              Ghana          0.72   \n",
       "2269              Indonesia             Java, Indonesian Black             1   \n",
       "\n",
       "     Ingredients    Most Memorable Characteristics  Rating  \n",
       "80           NaN  few grits, blackcherry, licorice    3.50  \n",
       "81           NaN                  raisins, pungent    3.00  \n",
       "161          NaN           very nutty, very bitter    1.75  \n",
       "283          NaN               acidic, bitter, dry    1.50  \n",
       "307          NaN    cardboard, very bitter, floral    1.50  \n",
       "...          ...                               ...     ...  \n",
       "2240         NaN      cocoa,earthy,very astringent    3.00  \n",
       "2242         NaN  bland, mild fruit, strong bitter    2.00  \n",
       "2243         NaN         some fruit, strong bitter    2.00  \n",
       "2259         NaN    sticky, dry, vanilla dominates    2.50  \n",
       "2269         NaN       fruit, strong smoke, bitter    2.25  \n",
       "\n",
       "[88 rows x 10 columns]"
      ]
     },
     "execution_count": 35,
     "metadata": {},
     "output_type": "execute_result"
    }
   ],
   "source": [
    "print(\"We are missing\", df_cocoa[\"Ingredients\"].isnull().sum(), \"rows:\")\n",
    "\n",
    "\n",
    "df_cocoa[df_cocoa[\"Ingredients\"].isnull()]\n",
    "\n",
    "\n"
   ]
  },
  {
   "cell_type": "markdown",
   "metadata": {},
   "source": [
    "There only 88 values missing, all of them by ingredients. That's not enough to worry about it."
   ]
  },
  {
   "cell_type": "markdown",
   "metadata": {},
   "source": [
    "## Data Types"
   ]
  },
  {
   "cell_type": "markdown",
   "metadata": {},
   "source": [
    "#### Let's look at the data types"
   ]
  },
  {
   "cell_type": "code",
   "execution_count": 36,
   "metadata": {},
   "outputs": [
    {
     "data": {
      "text/plain": [
       "REF                                   int64\n",
       "Company (Manufacturer)               object\n",
       "Company Location                     object\n",
       "Review Date                           int64\n",
       "Country of Bean Origin               object\n",
       "Specific Bean Origin or Bar Name     object\n",
       "Cocoa Percent                        object\n",
       "Ingredients                          object\n",
       "Most Memorable Characteristics       object\n",
       "Rating                              float64\n",
       "dtype: object"
      ]
     },
     "execution_count": 36,
     "metadata": {},
     "output_type": "execute_result"
    }
   ],
   "source": [
    "df_cocoa.dtypes"
   ]
  },
  {
   "cell_type": "code",
   "execution_count": 37,
   "metadata": {},
   "outputs": [],
   "source": [
    "# Change Review Date to be categorical\n",
    "df_cocoa[\"Review Date\"]=df_cocoa[\"Review Date\"].astype(\"object\")"
   ]
  },
  {
   "cell_type": "markdown",
   "metadata": {},
   "source": [
    "We need to inspect the column \"Cocoa Percent\". It should have a float type. Why wasn't it picked up?"
   ]
  },
  {
   "cell_type": "code",
   "execution_count": 38,
   "metadata": {
    "scrolled": true
   },
   "outputs": [
    {
     "data": {
      "text/plain": [
       "0.7       946\n",
       "0.75      289\n",
       "0.72      263\n",
       "0.65       89\n",
       "0.8        84\n",
       "0.68       63\n",
       "0.74       62\n",
       "0.73       60\n",
       "0.6        46\n",
       "0.71       42\n",
       "0.85       40\n",
       "0.77       38\n",
       "0.64       34\n",
       "0.76       33\n",
       "0.67       32\n",
       "0.66       27\n",
       "1          20\n",
       "0.78       20\n",
       "0.82       18\n",
       "0.55       16\n",
       "0.62       14\n",
       "0.63       14\n",
       "0.69       12\n",
       "0.9         8\n",
       "0.58        8\n",
       "0.88        8\n",
       "0.61        7\n",
       "0.81        6\n",
       "72.5%       4\n",
       "0.84        4\n",
       "0.83        4\n",
       "0.91        3\n",
       "0.89        2\n",
       "71.50%      2\n",
       "0.99        2\n",
       "73.5%       2\n",
       "0.56        2\n",
       "0.46        1\n",
       "0.57        1\n",
       "0.53        1\n",
       "0.79        1\n",
       "0.86        1\n",
       "0.42        1\n",
       "0.5         1\n",
       "0.87        1\n",
       "60.5%       1\n",
       "Name: Cocoa Percent, dtype: int64"
      ]
     },
     "execution_count": 38,
     "metadata": {},
     "output_type": "execute_result"
    }
   ],
   "source": [
    "df_cocoa[\"Cocoa Percent\"].value_counts()"
   ]
  },
  {
   "cell_type": "markdown",
   "metadata": {},
   "source": [
    "We see that there is e.x. a value \"73.5%\" in this column. There was apparently an issue while loading data from Excel. The percentages with a decimal weren't converted into numbers correctly. Let's repair this."
   ]
  },
  {
   "cell_type": "code",
   "execution_count": 39,
   "metadata": {},
   "outputs": [],
   "source": [
    "df_cocoa[\"Cocoa Percent\"] = [float(str(perc).strip('%'))/100 \n",
    "                             if '%' in str(perc) \n",
    "                             else float(perc) \n",
    "                             for perc in df_cocoa[\"Cocoa Percent\"] ]"
   ]
  },
  {
   "cell_type": "markdown",
   "metadata": {},
   "source": [
    "Check that this worked:"
   ]
  },
  {
   "cell_type": "code",
   "execution_count": 40,
   "metadata": {},
   "outputs": [
    {
     "data": {
      "text/plain": [
       "dtype('float64')"
      ]
     },
     "execution_count": 40,
     "metadata": {},
     "output_type": "execute_result"
    }
   ],
   "source": [
    "df_cocoa[\"Cocoa Percent\"].dtypes"
   ]
  },
  {
   "cell_type": "markdown",
   "metadata": {},
   "source": [
    "As a final check, let's look at the values once more"
   ]
  },
  {
   "cell_type": "code",
   "execution_count": 41,
   "metadata": {
    "scrolled": true
   },
   "outputs": [
    {
     "data": {
      "text/plain": [
       "0.700    946\n",
       "0.750    289\n",
       "0.720    263\n",
       "0.650     89\n",
       "0.800     84\n",
       "0.680     63\n",
       "0.740     62\n",
       "0.730     60\n",
       "0.600     46\n",
       "0.710     42\n",
       "0.850     40\n",
       "0.770     38\n",
       "0.640     34\n",
       "0.760     33\n",
       "0.670     32\n",
       "0.660     27\n",
       "0.780     20\n",
       "1.000     20\n",
       "0.820     18\n",
       "0.550     16\n",
       "0.630     14\n",
       "0.620     14\n",
       "0.690     12\n",
       "0.880      8\n",
       "0.900      8\n",
       "0.580      8\n",
       "0.610      7\n",
       "0.810      6\n",
       "0.840      4\n",
       "0.830      4\n",
       "0.725      4\n",
       "0.910      3\n",
       "0.890      2\n",
       "0.735      2\n",
       "0.990      2\n",
       "0.715      2\n",
       "0.560      2\n",
       "0.420      1\n",
       "0.570      1\n",
       "0.460      1\n",
       "0.790      1\n",
       "0.860      1\n",
       "0.870      1\n",
       "0.530      1\n",
       "0.500      1\n",
       "0.605      1\n",
       "Name: Cocoa Percent, dtype: int64"
      ]
     },
     "execution_count": 41,
     "metadata": {},
     "output_type": "execute_result"
    }
   ],
   "source": [
    "df_cocoa[\"Cocoa Percent\"].value_counts()"
   ]
  },
  {
   "cell_type": "markdown",
   "metadata": {},
   "source": [
    "## Explore the data"
   ]
  },
  {
   "cell_type": "markdown",
   "metadata": {},
   "source": [
    "### Where do the bars come from?"
   ]
  },
  {
   "cell_type": "code",
   "execution_count": 42,
   "metadata": {
    "scrolled": true
   },
   "outputs": [
    {
     "data": {
      "text/html": [
       "<div>\n",
       "<style scoped>\n",
       "    .dataframe tbody tr th:only-of-type {\n",
       "        vertical-align: middle;\n",
       "    }\n",
       "\n",
       "    .dataframe tbody tr th {\n",
       "        vertical-align: top;\n",
       "    }\n",
       "\n",
       "    .dataframe thead th {\n",
       "        text-align: right;\n",
       "    }\n",
       "</style>\n",
       "<table border=\"1\" class=\"dataframe\">\n",
       "  <thead>\n",
       "    <tr style=\"text-align: right;\">\n",
       "      <th></th>\n",
       "      <th>Count</th>\n",
       "      <th>Average Rating</th>\n",
       "      <th>% of total</th>\n",
       "    </tr>\n",
       "    <tr>\n",
       "      <th>Company Location</th>\n",
       "      <th></th>\n",
       "      <th></th>\n",
       "      <th></th>\n",
       "    </tr>\n",
       "  </thead>\n",
       "  <tbody>\n",
       "    <tr>\n",
       "      <th>U.S.A.</th>\n",
       "      <td>986</td>\n",
       "      <td>3.173174</td>\n",
       "      <td>42.26%</td>\n",
       "    </tr>\n",
       "    <tr>\n",
       "      <th>France</th>\n",
       "      <td>174</td>\n",
       "      <td>3.251437</td>\n",
       "      <td>7.46%</td>\n",
       "    </tr>\n",
       "    <tr>\n",
       "      <th>Canada</th>\n",
       "      <td>162</td>\n",
       "      <td>3.305556</td>\n",
       "      <td>6.94%</td>\n",
       "    </tr>\n",
       "    <tr>\n",
       "      <th>U.K.</th>\n",
       "      <td>126</td>\n",
       "      <td>3.063492</td>\n",
       "      <td>5.4%</td>\n",
       "    </tr>\n",
       "    <tr>\n",
       "      <th>Italy</th>\n",
       "      <td>73</td>\n",
       "      <td>3.229452</td>\n",
       "      <td>3.13%</td>\n",
       "    </tr>\n",
       "    <tr>\n",
       "      <th>...</th>\n",
       "      <td>...</td>\n",
       "      <td>...</td>\n",
       "      <td>...</td>\n",
       "    </tr>\n",
       "    <tr>\n",
       "      <th>St.Vincent-Grenadines</th>\n",
       "      <td>1</td>\n",
       "      <td>2.750000</td>\n",
       "      <td>0.04%</td>\n",
       "    </tr>\n",
       "    <tr>\n",
       "      <th>Suriname</th>\n",
       "      <td>1</td>\n",
       "      <td>3.250000</td>\n",
       "      <td>0.04%</td>\n",
       "    </tr>\n",
       "    <tr>\n",
       "      <th>Martinique</th>\n",
       "      <td>1</td>\n",
       "      <td>2.750000</td>\n",
       "      <td>0.04%</td>\n",
       "    </tr>\n",
       "    <tr>\n",
       "      <th>Ghana</th>\n",
       "      <td>1</td>\n",
       "      <td>2.750000</td>\n",
       "      <td>0.04%</td>\n",
       "    </tr>\n",
       "    <tr>\n",
       "      <th>Wales</th>\n",
       "      <td>1</td>\n",
       "      <td>2.750000</td>\n",
       "      <td>0.04%</td>\n",
       "    </tr>\n",
       "  </tbody>\n",
       "</table>\n",
       "<p>67 rows × 3 columns</p>\n",
       "</div>"
      ],
      "text/plain": [
       "                       Count  Average Rating % of total\n",
       "Company Location                                       \n",
       "U.S.A.                   986        3.173174     42.26%\n",
       "France                   174        3.251437      7.46%\n",
       "Canada                   162        3.305556      6.94%\n",
       "U.K.                     126        3.063492       5.4%\n",
       "Italy                     73        3.229452      3.13%\n",
       "...                      ...             ...        ...\n",
       "St.Vincent-Grenadines      1        2.750000      0.04%\n",
       "Suriname                   1        3.250000      0.04%\n",
       "Martinique                 1        2.750000      0.04%\n",
       "Ghana                      1        2.750000      0.04%\n",
       "Wales                      1        2.750000      0.04%\n",
       "\n",
       "[67 rows x 3 columns]"
      ]
     },
     "execution_count": 42,
     "metadata": {},
     "output_type": "execute_result"
    }
   ],
   "source": [
    "df_company_location = (df_cocoa.groupby(\"Company Location\")[\"Rating\"]\n",
    "         .agg([\"count\", \"mean\"])\n",
    "         .sort_values(\"count\", ascending=False)\n",
    "         .rename(columns={\"count\": \"Count\", \"mean\": \"Average Rating\"})\n",
    "            )\n",
    "\n",
    "# Count as a percentage of total\n",
    "df_company_location ['% of total'] = round(df_company_location['Count'] / num_rows * 100,2).apply(str) + '%'\n",
    "\n",
    "df_company_location"
   ]
  },
  {
   "cell_type": "markdown",
   "metadata": {},
   "source": [
    "We see that most of the countries are underrepresented in the database. Over 42% of the chocolate bars where obtained from U.S.A. companies. (Which is somewhat logical because the club reviewing the bars is located in New York.)"
   ]
  },
  {
   "cell_type": "markdown",
   "metadata": {},
   "source": [
    "### Where do the beans come from?"
   ]
  },
  {
   "cell_type": "code",
   "execution_count": 43,
   "metadata": {
    "scrolled": true
   },
   "outputs": [
    {
     "data": {
      "text/html": [
       "<div>\n",
       "<style scoped>\n",
       "    .dataframe tbody tr th:only-of-type {\n",
       "        vertical-align: middle;\n",
       "    }\n",
       "\n",
       "    .dataframe tbody tr th {\n",
       "        vertical-align: top;\n",
       "    }\n",
       "\n",
       "    .dataframe thead th {\n",
       "        text-align: right;\n",
       "    }\n",
       "</style>\n",
       "<table border=\"1\" class=\"dataframe\">\n",
       "  <thead>\n",
       "    <tr style=\"text-align: right;\">\n",
       "      <th></th>\n",
       "      <th>Count</th>\n",
       "      <th>Average Rating</th>\n",
       "      <th>% of total</th>\n",
       "    </tr>\n",
       "    <tr>\n",
       "      <th>Country of Bean Origin</th>\n",
       "      <th></th>\n",
       "      <th></th>\n",
       "      <th></th>\n",
       "    </tr>\n",
       "  </thead>\n",
       "  <tbody>\n",
       "    <tr>\n",
       "      <th>Venezuela</th>\n",
       "      <td>245</td>\n",
       "      <td>3.224490</td>\n",
       "      <td>10.5%</td>\n",
       "    </tr>\n",
       "    <tr>\n",
       "      <th>Peru</th>\n",
       "      <td>222</td>\n",
       "      <td>3.167793</td>\n",
       "      <td>9.52%</td>\n",
       "    </tr>\n",
       "    <tr>\n",
       "      <th>Ecuador</th>\n",
       "      <td>215</td>\n",
       "      <td>3.159302</td>\n",
       "      <td>9.22%</td>\n",
       "    </tr>\n",
       "    <tr>\n",
       "      <th>Dominican Republic</th>\n",
       "      <td>210</td>\n",
       "      <td>3.207619</td>\n",
       "      <td>9.0%</td>\n",
       "    </tr>\n",
       "    <tr>\n",
       "      <th>Madagascar</th>\n",
       "      <td>165</td>\n",
       "      <td>3.262121</td>\n",
       "      <td>7.07%</td>\n",
       "    </tr>\n",
       "    <tr>\n",
       "      <th>...</th>\n",
       "      <td>...</td>\n",
       "      <td>...</td>\n",
       "      <td>...</td>\n",
       "    </tr>\n",
       "    <tr>\n",
       "      <th>DR Congo</th>\n",
       "      <td>1</td>\n",
       "      <td>3.000000</td>\n",
       "      <td>0.04%</td>\n",
       "    </tr>\n",
       "    <tr>\n",
       "      <th>Martinique</th>\n",
       "      <td>1</td>\n",
       "      <td>2.750000</td>\n",
       "      <td>0.04%</td>\n",
       "    </tr>\n",
       "    <tr>\n",
       "      <th>St.Vincent-Grenadines</th>\n",
       "      <td>1</td>\n",
       "      <td>2.750000</td>\n",
       "      <td>0.04%</td>\n",
       "    </tr>\n",
       "    <tr>\n",
       "      <th>Burma</th>\n",
       "      <td>1</td>\n",
       "      <td>3.000000</td>\n",
       "      <td>0.04%</td>\n",
       "    </tr>\n",
       "    <tr>\n",
       "      <th>Gabon</th>\n",
       "      <td>1</td>\n",
       "      <td>3.250000</td>\n",
       "      <td>0.04%</td>\n",
       "    </tr>\n",
       "  </tbody>\n",
       "</table>\n",
       "<p>61 rows × 3 columns</p>\n",
       "</div>"
      ],
      "text/plain": [
       "                        Count  Average Rating % of total\n",
       "Country of Bean Origin                                  \n",
       "Venezuela                 245        3.224490      10.5%\n",
       "Peru                      222        3.167793      9.52%\n",
       "Ecuador                   215        3.159302      9.22%\n",
       "Dominican Republic        210        3.207619       9.0%\n",
       "Madagascar                165        3.262121      7.07%\n",
       "...                       ...             ...        ...\n",
       "DR Congo                    1        3.000000      0.04%\n",
       "Martinique                  1        2.750000      0.04%\n",
       "St.Vincent-Grenadines       1        2.750000      0.04%\n",
       "Burma                       1        3.000000      0.04%\n",
       "Gabon                       1        3.250000      0.04%\n",
       "\n",
       "[61 rows x 3 columns]"
      ]
     },
     "execution_count": 43,
     "metadata": {},
     "output_type": "execute_result"
    }
   ],
   "source": [
    "df_origin = (df_cocoa.groupby([\"Country of Bean Origin\"])[\"Rating\"]\n",
    "         .agg([\"count\", \"mean\"])\n",
    "         .sort_values(\"count\", ascending=False)\n",
    "         .rename(columns={\"count\": \"Count\", \"mean\": \"Average Rating\"})\n",
    ")\n",
    "\n",
    "df_origin ['% of total'] = round(df_origin['Count'] / num_rows * 100,2).apply(str) + '%'\n",
    "\n",
    "df_origin\n"
   ]
  },
  {
   "cell_type": "markdown",
   "metadata": {},
   "source": [
    "### How many bars do we have for each Rating Scale?\n",
    "\n",
    "Rating Scale: \n",
    "\n",
    "4.0–5.0 = Outstanding\n",
    "\n",
    "3.5–3.9 = Highly Recommended\n",
    "\n",
    "3.0–3.49 = Recommended\n",
    "\n",
    "2.0–2.9 = Disappointing\n",
    "\n",
    "1.0–1.9 = Unpleasant"
   ]
  },
  {
   "cell_type": "code",
   "execution_count": 44,
   "metadata": {},
   "outputs": [
    {
     "data": {
      "image/png": "[encoded data removed]",
      "text/plain": [
       "<Figure size 842.4x595.44 with 1 Axes>"
      ]
     },
     "metadata": {},
     "output_type": "display_data"
    }
   ],
   "source": [
    "sns.histplot(data=df_cocoa, x=\"Rating\", bins=[1,1.9,2.9,3.49,3.9,5], color='brown')\n",
    "plt.xlabel(\"Rating\")\n",
    "plt.ylabel(\"Count\")\n",
    "plt.title(\"Count of chocolate bars in each Rating category\")\n",
    "plt.show()"
   ]
  },
  {
   "cell_type": "markdown",
   "metadata": {},
   "source": [
    "In the database we don't have that many \"Unpleasant\" nor \"Outstanding\" bars. The category \"Highly recommended\", even though relatively short (between 3.5 and 3.9), is very well represented."
   ]
  },
  {
   "cell_type": "markdown",
   "metadata": {},
   "source": [
    "### Are the ratings more or less consistent with time?"
   ]
  },
  {
   "cell_type": "code",
   "execution_count": 45,
   "metadata": {},
   "outputs": [
    {
     "name": "stdout",
     "output_type": "stream",
     "text": [
      "Below you can see the number and average of ratings by year:\n",
      "\n",
      "             Count  Average Rating\n",
      "Review Date                       \n",
      "2020            55        3.227273\n",
      "2019           194        3.134021\n",
      "2018           228        3.192325\n",
      "2017           105        3.361905\n",
      "2016           219        3.226027\n",
      "2015           284        3.244718\n",
      "2014           247        3.189271\n",
      "2013           184        3.197011\n",
      "2012           194        3.180412\n",
      "2011           163        3.257669\n",
      "2010           110        3.152273\n",
      "2009           123        3.073171\n",
      "2008            92        3.000000\n",
      "2007            73        3.102740\n",
      "2006            62        3.004032\n"
     ]
    },
    {
     "data": {
      "image/png": "[encoded data removed]",
      "text/plain": [
       "<Figure size 842.4x595.44 with 1 Axes>"
      ]
     },
     "metadata": {},
     "output_type": "display_data"
    }
   ],
   "source": [
    "# group the df by Review Date\n",
    "df_year = (df_cocoa.groupby(\"Review Date\")[\"Rating\"]\n",
    "         .agg([\"count\", \"mean\"])\n",
    "         .sort_values(\"Review Date\", ascending=False)\n",
    "         .rename(columns={\"count\": \"Count\", \"mean\": \"Average Rating\"})\n",
    ")\n",
    "\n",
    "print(\"Below you can see the number and average of ratings by year:\\n\")\n",
    "print(df_year)\n",
    "\n",
    "plt.scatter(x=df_year.index, y=df_year[\"Average Rating\"], marker=\"x\", color=\"red\", s=df_year[\"Count\"])\n",
    "plt.xlabel(\"Year\")\n",
    "plt.ylabel(\"Average Rating\")\n",
    "plt.title(\"The Average Rating by Year. The bigger the marker, the more chocolate bars were tasted.\")\n",
    "plt.show()"
   ]
  },
  {
   "cell_type": "markdown",
   "metadata": {},
   "source": [
    "We can observe that the average is slightly increasing between 2006 and 2017. However, it might simply be that the club started tasting more chocolate bars per year and that it started selecting better chocolate bars for the reviews."
   ]
  },
  {
   "cell_type": "markdown",
   "metadata": {},
   "source": [
    "# Data Preparation\n",
    "\n",
    "First, let us divide the column Ingredients into two columns - Number of Ingredients (the value before the dash) and Ingredients (the string after the dash)."
   ]
  },
  {
   "cell_type": "code",
   "execution_count": 46,
   "metadata": {},
   "outputs": [
    {
     "data": {
      "text/html": [
       "<div>\n",
       "<style scoped>\n",
       "    .dataframe tbody tr th:only-of-type {\n",
       "        vertical-align: middle;\n",
       "    }\n",
       "\n",
       "    .dataframe tbody tr th {\n",
       "        vertical-align: top;\n",
       "    }\n",
       "\n",
       "    .dataframe thead th {\n",
       "        text-align: right;\n",
       "    }\n",
       "</style>\n",
       "<table border=\"1\" class=\"dataframe\">\n",
       "  <thead>\n",
       "    <tr style=\"text-align: right;\">\n",
       "      <th></th>\n",
       "      <th>REF</th>\n",
       "      <th>Company (Manufacturer)</th>\n",
       "      <th>Company Location</th>\n",
       "      <th>Review Date</th>\n",
       "      <th>Country of Bean Origin</th>\n",
       "      <th>Specific Bean Origin or Bar Name</th>\n",
       "      <th>Cocoa Percent</th>\n",
       "      <th>Ingredients</th>\n",
       "      <th>Most Memorable Characteristics</th>\n",
       "      <th>Rating</th>\n",
       "      <th>Number of Ingredients</th>\n",
       "      <th>Ingredients listed</th>\n",
       "    </tr>\n",
       "  </thead>\n",
       "  <tbody>\n",
       "    <tr>\n",
       "      <th>0</th>\n",
       "      <td>2454</td>\n",
       "      <td>5150</td>\n",
       "      <td>U.S.A.</td>\n",
       "      <td>2019</td>\n",
       "      <td>Madagascar</td>\n",
       "      <td>Bejofo Estate, batch 1</td>\n",
       "      <td>0.76</td>\n",
       "      <td>3- B,S,C</td>\n",
       "      <td>cocoa, blackberry, full body</td>\n",
       "      <td>3.75</td>\n",
       "      <td>3</td>\n",
       "      <td>B,S,C</td>\n",
       "    </tr>\n",
       "    <tr>\n",
       "      <th>1</th>\n",
       "      <td>2458</td>\n",
       "      <td>5150</td>\n",
       "      <td>U.S.A.</td>\n",
       "      <td>2019</td>\n",
       "      <td>Dominican Republic</td>\n",
       "      <td>Zorzal, batch 1</td>\n",
       "      <td>0.76</td>\n",
       "      <td>3- B,S,C</td>\n",
       "      <td>cocoa, vegetal, savory</td>\n",
       "      <td>3.50</td>\n",
       "      <td>3</td>\n",
       "      <td>B,S,C</td>\n",
       "    </tr>\n",
       "    <tr>\n",
       "      <th>2</th>\n",
       "      <td>2454</td>\n",
       "      <td>5150</td>\n",
       "      <td>U.S.A.</td>\n",
       "      <td>2019</td>\n",
       "      <td>Tanzania</td>\n",
       "      <td>Kokoa Kamili, batch 1</td>\n",
       "      <td>0.76</td>\n",
       "      <td>3- B,S,C</td>\n",
       "      <td>rich cocoa, fatty, bready</td>\n",
       "      <td>3.25</td>\n",
       "      <td>3</td>\n",
       "      <td>B,S,C</td>\n",
       "    </tr>\n",
       "    <tr>\n",
       "      <th>3</th>\n",
       "      <td>797</td>\n",
       "      <td>A. Morin</td>\n",
       "      <td>France</td>\n",
       "      <td>2012</td>\n",
       "      <td>Peru</td>\n",
       "      <td>Peru</td>\n",
       "      <td>0.63</td>\n",
       "      <td>4- B,S,C,L</td>\n",
       "      <td>fruity, melon, roasty</td>\n",
       "      <td>3.75</td>\n",
       "      <td>4</td>\n",
       "      <td>B,S,C,L</td>\n",
       "    </tr>\n",
       "    <tr>\n",
       "      <th>4</th>\n",
       "      <td>797</td>\n",
       "      <td>A. Morin</td>\n",
       "      <td>France</td>\n",
       "      <td>2012</td>\n",
       "      <td>Bolivia</td>\n",
       "      <td>Bolivia</td>\n",
       "      <td>0.70</td>\n",
       "      <td>4- B,S,C,L</td>\n",
       "      <td>vegetal, nutty</td>\n",
       "      <td>3.50</td>\n",
       "      <td>4</td>\n",
       "      <td>B,S,C,L</td>\n",
       "    </tr>\n",
       "  </tbody>\n",
       "</table>\n",
       "</div>"
      ],
      "text/plain": [
       "    REF Company (Manufacturer) Company Location Review Date  \\\n",
       "0  2454                   5150           U.S.A.        2019   \n",
       "1  2458                   5150           U.S.A.        2019   \n",
       "2  2454                   5150           U.S.A.        2019   \n",
       "3   797               A. Morin           France        2012   \n",
       "4   797               A. Morin           France        2012   \n",
       "\n",
       "  Country of Bean Origin Specific Bean Origin or Bar Name  Cocoa Percent  \\\n",
       "0             Madagascar           Bejofo Estate, batch 1           0.76   \n",
       "1     Dominican Republic                  Zorzal, batch 1           0.76   \n",
       "2               Tanzania            Kokoa Kamili, batch 1           0.76   \n",
       "3                   Peru                             Peru           0.63   \n",
       "4                Bolivia                          Bolivia           0.70   \n",
       "\n",
       "  Ingredients Most Memorable Characteristics  Rating Number of Ingredients  \\\n",
       "0    3- B,S,C   cocoa, blackberry, full body    3.75                     3   \n",
       "1    3- B,S,C         cocoa, vegetal, savory    3.50                     3   \n",
       "2    3- B,S,C      rich cocoa, fatty, bready    3.25                     3   \n",
       "3  4- B,S,C,L          fruity, melon, roasty    3.75                     4   \n",
       "4  4- B,S,C,L                 vegetal, nutty    3.50                     4   \n",
       "\n",
       "  Ingredients listed  \n",
       "0              B,S,C  \n",
       "1              B,S,C  \n",
       "2              B,S,C  \n",
       "3            B,S,C,L  \n",
       "4            B,S,C,L  "
      ]
     },
     "execution_count": 46,
     "metadata": {},
     "output_type": "execute_result"
    }
   ],
   "source": [
    "df_cocoa[['Number of Ingredients', 'Ingredients listed']] = (df_cocoa['Ingredients']\n",
    "                                                             .str.split('-', 1, expand=True)\n",
    "                                                             .apply(lambda x: x.str.strip())\n",
    "                                                            )\n",
    "df_cocoa.head()"
   ]
  },
  {
   "cell_type": "markdown",
   "metadata": {},
   "source": [
    "Then, let us group the cocoa percentages into bins."
   ]
  },
  {
   "cell_type": "code",
   "execution_count": 47,
   "metadata": {},
   "outputs": [
    {
     "name": "stdout",
     "output_type": "stream",
     "text": [
      "  Cocoa Percent - Intervals\n",
      "0               (0.75, 0.8]\n",
      "1               (0.75, 0.8]\n",
      "2               (0.75, 0.8]\n",
      "3               (0.6, 0.65]\n",
      "4               (0.65, 0.7]\n"
     ]
    }
   ],
   "source": [
    "df_cocoa[\"Cocoa Percent - Intervals\"] = pd.cut(df_cocoa[\"Cocoa Percent\"], \n",
    "                                               bins=[0,.05,\n",
    "                                                     .1,.15,\n",
    "                                                     .2,.25,\n",
    "                                                     .3,.35,\n",
    "                                                     .4,.45,\n",
    "                                                     .5,.55,\n",
    "                                                     .6,.65,\n",
    "                                                     .7,.75,\n",
    "                                                     .8,.85,\n",
    "                                                     .9,.95,\n",
    "                                                     1])\n",
    "print(df_cocoa[[\"Cocoa Percent - Intervals\"]].head())"
   ]
  },
  {
   "cell_type": "markdown",
   "metadata": {},
   "source": [
    "For some parts of the analysis, we need a data frame with the best chocolate bars that we define to be the chocolate bars with Rating of 3.5 or more."
   ]
  },
  {
   "cell_type": "code",
   "execution_count": 48,
   "metadata": {},
   "outputs": [
    {
     "data": {
      "text/html": [
       "<div>\n",
       "<style scoped>\n",
       "    .dataframe tbody tr th:only-of-type {\n",
       "        vertical-align: middle;\n",
       "    }\n",
       "\n",
       "    .dataframe tbody tr th {\n",
       "        vertical-align: top;\n",
       "    }\n",
       "\n",
       "    .dataframe thead th {\n",
       "        text-align: right;\n",
       "    }\n",
       "</style>\n",
       "<table border=\"1\" class=\"dataframe\">\n",
       "  <thead>\n",
       "    <tr style=\"text-align: right;\">\n",
       "      <th></th>\n",
       "      <th>REF</th>\n",
       "      <th>Company (Manufacturer)</th>\n",
       "      <th>Company Location</th>\n",
       "      <th>Review Date</th>\n",
       "      <th>Country of Bean Origin</th>\n",
       "      <th>Specific Bean Origin or Bar Name</th>\n",
       "      <th>Cocoa Percent</th>\n",
       "      <th>Ingredients</th>\n",
       "      <th>Most Memorable Characteristics</th>\n",
       "      <th>Rating</th>\n",
       "      <th>Number of Ingredients</th>\n",
       "      <th>Ingredients listed</th>\n",
       "      <th>Cocoa Percent - Intervals</th>\n",
       "    </tr>\n",
       "  </thead>\n",
       "  <tbody>\n",
       "    <tr>\n",
       "      <th>1685</th>\n",
       "      <td>196</td>\n",
       "      <td>Patric</td>\n",
       "      <td>U.S.A.</td>\n",
       "      <td>2007</td>\n",
       "      <td>Madagascar</td>\n",
       "      <td>Madagascar</td>\n",
       "      <td>0.70</td>\n",
       "      <td>3- B,S,C</td>\n",
       "      <td>mild tart, wine, red fruit, long</td>\n",
       "      <td>4.0</td>\n",
       "      <td>3</td>\n",
       "      <td>B,S,C</td>\n",
       "      <td>(0.65, 0.7]</td>\n",
       "    </tr>\n",
       "    <tr>\n",
       "      <th>2104</th>\n",
       "      <td>2326</td>\n",
       "      <td>Taste Artisan</td>\n",
       "      <td>U.S.A.</td>\n",
       "      <td>2019</td>\n",
       "      <td>Peru</td>\n",
       "      <td>Piura</td>\n",
       "      <td>0.75</td>\n",
       "      <td>3- B,S,C</td>\n",
       "      <td>fig</td>\n",
       "      <td>4.0</td>\n",
       "      <td>3</td>\n",
       "      <td>B,S,C</td>\n",
       "      <td>(0.7, 0.75]</td>\n",
       "    </tr>\n",
       "    <tr>\n",
       "      <th>232</th>\n",
       "      <td>636</td>\n",
       "      <td>Beschle (Felchlin)</td>\n",
       "      <td>Switzerland</td>\n",
       "      <td>2011</td>\n",
       "      <td>Ecuador</td>\n",
       "      <td>Ecuador</td>\n",
       "      <td>0.72</td>\n",
       "      <td>3- B,S,C</td>\n",
       "      <td>creamy, nutty, cocoa</td>\n",
       "      <td>4.0</td>\n",
       "      <td>3</td>\n",
       "      <td>B,S,C</td>\n",
       "      <td>(0.7, 0.75]</td>\n",
       "    </tr>\n",
       "    <tr>\n",
       "      <th>277</th>\n",
       "      <td>48</td>\n",
       "      <td>Bonnat</td>\n",
       "      <td>France</td>\n",
       "      <td>2006</td>\n",
       "      <td>Venezuela</td>\n",
       "      <td>Maracaibo, El Rosario</td>\n",
       "      <td>0.75</td>\n",
       "      <td>3- B,S,C</td>\n",
       "      <td>creamy, fatty, floral</td>\n",
       "      <td>4.0</td>\n",
       "      <td>3</td>\n",
       "      <td>B,S,C</td>\n",
       "      <td>(0.7, 0.75]</td>\n",
       "    </tr>\n",
       "    <tr>\n",
       "      <th>278</th>\n",
       "      <td>81</td>\n",
       "      <td>Bonnat</td>\n",
       "      <td>France</td>\n",
       "      <td>2006</td>\n",
       "      <td>Venezuela</td>\n",
       "      <td>Chuao</td>\n",
       "      <td>0.75</td>\n",
       "      <td>3- B,S,C</td>\n",
       "      <td>creamy, coconut, tang</td>\n",
       "      <td>4.0</td>\n",
       "      <td>3</td>\n",
       "      <td>B,S,C</td>\n",
       "      <td>(0.7, 0.75]</td>\n",
       "    </tr>\n",
       "  </tbody>\n",
       "</table>\n",
       "</div>"
      ],
      "text/plain": [
       "       REF Company (Manufacturer) Company Location Review Date  \\\n",
       "1685   196                 Patric           U.S.A.        2007   \n",
       "2104  2326          Taste Artisan           U.S.A.        2019   \n",
       "232    636     Beschle (Felchlin)      Switzerland        2011   \n",
       "277     48                 Bonnat           France        2006   \n",
       "278     81                 Bonnat           France        2006   \n",
       "\n",
       "     Country of Bean Origin Specific Bean Origin or Bar Name  Cocoa Percent  \\\n",
       "1685             Madagascar                       Madagascar           0.70   \n",
       "2104                   Peru                            Piura           0.75   \n",
       "232                 Ecuador                          Ecuador           0.72   \n",
       "277               Venezuela            Maracaibo, El Rosario           0.75   \n",
       "278               Venezuela                            Chuao           0.75   \n",
       "\n",
       "     Ingredients    Most Memorable Characteristics  Rating  \\\n",
       "1685    3- B,S,C  mild tart, wine, red fruit, long     4.0   \n",
       "2104    3- B,S,C                               fig     4.0   \n",
       "232     3- B,S,C              creamy, nutty, cocoa     4.0   \n",
       "277     3- B,S,C             creamy, fatty, floral     4.0   \n",
       "278     3- B,S,C             creamy, coconut, tang     4.0   \n",
       "\n",
       "     Number of Ingredients Ingredients listed Cocoa Percent - Intervals  \n",
       "1685                     3              B,S,C               (0.65, 0.7]  \n",
       "2104                     3              B,S,C               (0.7, 0.75]  \n",
       "232                      3              B,S,C               (0.7, 0.75]  \n",
       "277                      3              B,S,C               (0.7, 0.75]  \n",
       "278                      3              B,S,C               (0.7, 0.75]  "
      ]
     },
     "execution_count": 48,
     "metadata": {},
     "output_type": "execute_result"
    }
   ],
   "source": [
    "# df with the best chocolate bars, i.e. with rating >= 3.5\n",
    "df_best = df_cocoa[df_cocoa[\"Rating\"]>=3.5].sort_values(\"Rating\", ascending=False)\n",
    "df_best.head()"
   ]
  },
  {
   "cell_type": "markdown",
   "metadata": {},
   "source": [
    "And for some parts of the analysis, we need a data frame with the worst chocolate bars that we define to be the chocolate bars with Rating of 2.9 or less."
   ]
  },
  {
   "cell_type": "code",
   "execution_count": 49,
   "metadata": {},
   "outputs": [
    {
     "data": {
      "text/html": [
       "<div>\n",
       "<style scoped>\n",
       "    .dataframe tbody tr th:only-of-type {\n",
       "        vertical-align: middle;\n",
       "    }\n",
       "\n",
       "    .dataframe tbody tr th {\n",
       "        vertical-align: top;\n",
       "    }\n",
       "\n",
       "    .dataframe thead th {\n",
       "        text-align: right;\n",
       "    }\n",
       "</style>\n",
       "<table border=\"1\" class=\"dataframe\">\n",
       "  <thead>\n",
       "    <tr style=\"text-align: right;\">\n",
       "      <th></th>\n",
       "      <th>REF</th>\n",
       "      <th>Company (Manufacturer)</th>\n",
       "      <th>Company Location</th>\n",
       "      <th>Review Date</th>\n",
       "      <th>Country of Bean Origin</th>\n",
       "      <th>Specific Bean Origin or Bar Name</th>\n",
       "      <th>Cocoa Percent</th>\n",
       "      <th>Ingredients</th>\n",
       "      <th>Most Memorable Characteristics</th>\n",
       "      <th>Rating</th>\n",
       "      <th>Number of Ingredients</th>\n",
       "      <th>Ingredients listed</th>\n",
       "      <th>Cocoa Percent - Intervals</th>\n",
       "    </tr>\n",
       "  </thead>\n",
       "  <tbody>\n",
       "    <tr>\n",
       "      <th>410</th>\n",
       "      <td>141</td>\n",
       "      <td>Callebaut</td>\n",
       "      <td>Belgium</td>\n",
       "      <td>2007</td>\n",
       "      <td>Ecuador</td>\n",
       "      <td>Baking</td>\n",
       "      <td>0.70</td>\n",
       "      <td>NaN</td>\n",
       "      <td>bitter, cocoa</td>\n",
       "      <td>1.0</td>\n",
       "      <td>NaN</td>\n",
       "      <td>NaN</td>\n",
       "      <td>(0.65, 0.7]</td>\n",
       "    </tr>\n",
       "    <tr>\n",
       "      <th>546</th>\n",
       "      <td>252</td>\n",
       "      <td>Claudio Corallo</td>\n",
       "      <td>Sao Tome</td>\n",
       "      <td>2008</td>\n",
       "      <td>Blend</td>\n",
       "      <td>Principe, Sao Tome &amp; Principe</td>\n",
       "      <td>1.00</td>\n",
       "      <td>NaN</td>\n",
       "      <td>chalky, musty, very bitter</td>\n",
       "      <td>1.0</td>\n",
       "      <td>NaN</td>\n",
       "      <td>NaN</td>\n",
       "      <td>(0.95, 1.0]</td>\n",
       "    </tr>\n",
       "    <tr>\n",
       "      <th>578</th>\n",
       "      <td>48</td>\n",
       "      <td>Cote d' Or (Kraft)</td>\n",
       "      <td>Belgium</td>\n",
       "      <td>2006</td>\n",
       "      <td>Blend</td>\n",
       "      <td>Sensations Intense</td>\n",
       "      <td>0.70</td>\n",
       "      <td>NaN</td>\n",
       "      <td>this is not chocolate</td>\n",
       "      <td>1.0</td>\n",
       "      <td>NaN</td>\n",
       "      <td>NaN</td>\n",
       "      <td>(0.65, 0.7]</td>\n",
       "    </tr>\n",
       "    <tr>\n",
       "      <th>1553</th>\n",
       "      <td>135</td>\n",
       "      <td>Neuhaus (Callebaut)</td>\n",
       "      <td>Belgium</td>\n",
       "      <td>2007</td>\n",
       "      <td>Blend</td>\n",
       "      <td>Dark</td>\n",
       "      <td>0.73</td>\n",
       "      <td>5- B,S,C,V,L</td>\n",
       "      <td>pastey, strong off flavor</td>\n",
       "      <td>1.0</td>\n",
       "      <td>5</td>\n",
       "      <td>B,S,C,V,L</td>\n",
       "      <td>(0.7, 0.75]</td>\n",
       "    </tr>\n",
       "    <tr>\n",
       "      <th>283</th>\n",
       "      <td>81</td>\n",
       "      <td>Bonnat</td>\n",
       "      <td>France</td>\n",
       "      <td>2006</td>\n",
       "      <td>Blend</td>\n",
       "      <td>One Hundred</td>\n",
       "      <td>1.00</td>\n",
       "      <td>NaN</td>\n",
       "      <td>acidic, bitter, dry</td>\n",
       "      <td>1.5</td>\n",
       "      <td>NaN</td>\n",
       "      <td>NaN</td>\n",
       "      <td>(0.95, 1.0]</td>\n",
       "    </tr>\n",
       "  </tbody>\n",
       "</table>\n",
       "</div>"
      ],
      "text/plain": [
       "      REF Company (Manufacturer) Company Location Review Date  \\\n",
       "410   141              Callebaut          Belgium        2007   \n",
       "546   252        Claudio Corallo         Sao Tome        2008   \n",
       "578    48     Cote d' Or (Kraft)          Belgium        2006   \n",
       "1553  135    Neuhaus (Callebaut)          Belgium        2007   \n",
       "283    81                 Bonnat           France        2006   \n",
       "\n",
       "     Country of Bean Origin Specific Bean Origin or Bar Name  Cocoa Percent  \\\n",
       "410                 Ecuador                           Baking           0.70   \n",
       "546                   Blend    Principe, Sao Tome & Principe           1.00   \n",
       "578                   Blend               Sensations Intense           0.70   \n",
       "1553                  Blend                             Dark           0.73   \n",
       "283                   Blend                      One Hundred           1.00   \n",
       "\n",
       "       Ingredients Most Memorable Characteristics  Rating  \\\n",
       "410            NaN                  bitter, cocoa     1.0   \n",
       "546            NaN     chalky, musty, very bitter     1.0   \n",
       "578            NaN          this is not chocolate     1.0   \n",
       "1553  5- B,S,C,V,L      pastey, strong off flavor     1.0   \n",
       "283            NaN            acidic, bitter, dry     1.5   \n",
       "\n",
       "     Number of Ingredients Ingredients listed Cocoa Percent - Intervals  \n",
       "410                    NaN                NaN               (0.65, 0.7]  \n",
       "546                    NaN                NaN               (0.95, 1.0]  \n",
       "578                    NaN                NaN               (0.65, 0.7]  \n",
       "1553                     5          B,S,C,V,L               (0.7, 0.75]  \n",
       "283                    NaN                NaN               (0.95, 1.0]  "
      ]
     },
     "execution_count": 49,
     "metadata": {},
     "output_type": "execute_result"
    }
   ],
   "source": [
    "# df with the worst chocolate bars, i.e. with rating <= 2.9\n",
    "df_worst = df_cocoa[df_cocoa[\"Rating\"]<=2.9].sort_values(\"Rating\", ascending=True)\n",
    "df_worst.head()"
   ]
  },
  {
   "cell_type": "markdown",
   "metadata": {},
   "source": [
    "In the analysis we want to compare how often some combinations of characteristics or combinations of ingredients are found. The problem is that in the table we have multiple options in each row. To facilitate the analysis, we create the following function."
   ]
  },
  {
   "cell_type": "code",
   "execution_count": 50,
   "metadata": {},
   "outputs": [],
   "source": [
    "def count_substrings (df, column_name: str, n: int = 1, separator: str = \", \"):\n",
    "    \"\"\"\n",
    "    INPUT:\n",
    "    df - the pandas dataframe that we want to go through\n",
    "    column_name (str) - the column name that we want to count values from\n",
    "    n (int) - a whole number, specifying how many common characteristics we need to find between rows\n",
    "    separator (str)\n",
    "    \n",
    "    OUTPUT:\n",
    "    my_counter - a Counter object, specifying \n",
    "    \"\"\"\n",
    "    my_counter = collections.Counter (\n",
    "        ['+'.join(list(combination)) \n",
    "         for row in df[column_name] \n",
    "         for combination in combinations(sorted(row.split(separator)), n) \n",
    "        ]\n",
    "        )\n",
    "    return my_counter\n"
   ]
  },
  {
   "cell_type": "markdown",
   "metadata": {},
   "source": [
    "## Answering the Business Questions"
   ]
  },
  {
   "cell_type": "markdown",
   "metadata": {},
   "source": [
    "### Q1: What cocoa percentage should we use?"
   ]
  },
  {
   "cell_type": "code",
   "execution_count": 51,
   "metadata": {},
   "outputs": [],
   "source": [
    "def countplot_with_percentages(df, x: str, n = 0):\n",
    "    \"\"\"\n",
    "    Plot counts and annotate percentages.\n",
    "    \n",
    "    INPUT:\n",
    "    df - the pandas dataframe\n",
    "    x (str) - name of the column to be counted\n",
    "    n (int) - number of rows for the percentage, 0 will be changed to len(df)\n",
    "    \"\"\"\n",
    "    # set n to be default to len(df)\n",
    "    if n == 0:\n",
    "        n = len(df)\n",
    "    \n",
    "    # create a plot\n",
    "    cocoa_plot = sns.countplot(data=df, \n",
    "                 x=x,\n",
    "                 palette = sns.color_palette(\"Set2\"))\n",
    "    \n",
    "    # add annotations    \n",
    "    for p in cocoa_plot.patches:\n",
    "        if p.get_height()/len(df)*100 >=1:\n",
    "            cocoa_plot.annotate(format(p.get_height()/n*100, '.0f') + '%', \n",
    "                           (p.get_x() + p.get_width() / 2., p.get_height()), \n",
    "                           ha = 'center', va = 'center', \n",
    "                           size=12,\n",
    "                           xytext = (0, 6), \n",
    "                           textcoords = 'offset points',\n",
    "                           color = 'red')\n",
    "        else:\n",
    "            cocoa_plot.annotate('<1%', \n",
    "                           (p.get_x() + p.get_width() / 2., p.get_height()), \n",
    "                           ha = 'center', va = 'center', \n",
    "                           size=12,\n",
    "                           xytext = (0, 9), \n",
    "                           textcoords = 'offset points')\n",
    "    plt.xticks(rotation=60, fontsize=12)\n",
    "\n",
    "    "
   ]
  },
  {
   "cell_type": "code",
   "execution_count": 52,
   "metadata": {},
   "outputs": [
    {
     "data": {
      "image/png": "[encoded data removed]",
      "text/plain": [
       "<Figure size 842.4x595.44 with 1 Axes>"
      ]
     },
     "metadata": {},
     "output_type": "display_data"
    }
   ],
   "source": [
    "df = df_best\n",
    "\n",
    "# use the defined function to make a plot\n",
    "countplot_with_percentages(df, \"Cocoa Percent - Intervals\")\n",
    "\n",
    "# specify details of the plot\n",
    "plt.ylabel(\"Count of bars\", fontsize=15)\n",
    "plt.xlabel(\"Cocoa Percentage\", fontsize=15)\n",
    "plt.title(\"The best chocolate bars by Cocoa Percentage\", fontsize=20)\n",
    "plt.show()"
   ]
  },
  {
   "cell_type": "markdown",
   "metadata": {},
   "source": [
    "We see that 55% + 28% = 83% of the chocolate bars fall in the interval (0.65, 0.75] of cacao percentage. Let's zoom in to see the values between 0.6 and 0.8. "
   ]
  },
  {
   "cell_type": "code",
   "execution_count": 53,
   "metadata": {},
   "outputs": [
    {
     "data": {
      "image/png": "[encoded data removed]",
      "text/plain": [
       "<Figure size 842.4x595.44 with 1 Axes>"
      ]
     },
     "metadata": {},
     "output_type": "display_data"
    }
   ],
   "source": [
    "df = df_best[(df_best[\"Cocoa Percent\"] >= 0.6) & (df_best[\"Cocoa Percent\"] <= 0.8)]\n",
    "\n",
    "# use the defined function to make a plot, use len(df_best) to get the percentage of all values\n",
    "countplot_with_percentages(df, \"Cocoa Percent\", n = len(df_best))\n",
    "\n",
    "# specify details of the plot\n",
    "plt.ylabel(\"Count of bars\", fontsize=15)\n",
    "plt.xlabel(\"Cocoa Percentage\", fontsize=15)\n",
    "plt.title(\"The best chocolate bars by Cocoa Percentage\", fontsize=20)\n",
    "plt.show()\n"
   ]
  },
  {
   "cell_type": "markdown",
   "metadata": {},
   "source": [
    "When looking at all the chocolate bars rated 3.5 or more we see that 47% of them had Cocoa Percentage of exactly 70%. \n",
    "\n",
    "**Conclusion**: The most successfull bars have 70% of cocoa or slightly more."
   ]
  },
  {
   "cell_type": "markdown",
   "metadata": {},
   "source": [
    "### Q2: Where should we buy the beans?\n"
   ]
  },
  {
   "cell_type": "code",
   "execution_count": 54,
   "metadata": {},
   "outputs": [
    {
     "data": {
      "image/png": "[encoded data removed]",
      "text/plain": [
       "<Figure size 842.4x595.44 with 1 Axes>"
      ]
     },
     "metadata": {},
     "output_type": "display_data"
    }
   ],
   "source": [
    "# don't include the name \"Blend\" as a Country\n",
    "df = df_best[df_best[\"Country of Bean Origin\"]!=\"Blend\"]\n",
    "\n",
    "# plot top 5\n",
    "sns.countplot(y = \"Country of Bean Origin\", \n",
    "              data = df,\n",
    "              order = df[\"Country of Bean Origin\"].value_counts().iloc[:5].index,\n",
    "              palette = sns.color_palette(\"husl\", 5))\n",
    "\n",
    "plt.ylabel(\"Country of Bean Origin\", fontsize=15)\n",
    "plt.xlabel(\"Count\", fontsize=15)\n",
    "plt.title(\"Top 5 Countries of Bean Origin among the best chocolate bars\", fontsize=20)\n",
    "plt.show()"
   ]
  },
  {
   "cell_type": "markdown",
   "metadata": {},
   "source": [
    "**Conclusion**: According to the dataset some top location to look for beans are: Venezuela, Ecuador, Peru, Dominic Republic and Madagascar."
   ]
  },
  {
   "cell_type": "markdown",
   "metadata": {},
   "source": [
    "### Q3: What taste characteristics are valuable? What should we aim for?\n"
   ]
  },
  {
   "cell_type": "code",
   "execution_count": 55,
   "metadata": {},
   "outputs": [
    {
     "data": {
      "image/png": "[encoded data removed]",
      "text/plain": [
       "<Figure size 842.4x595.44 with 1 Axes>"
      ]
     },
     "metadata": {},
     "output_type": "display_data"
    }
   ],
   "source": [
    "df = df_best\n",
    "# find the most common characteristics using the previously defined function count_substrings\n",
    "df_characteristics = pd.DataFrame(\n",
    "                        count_substrings(df, \n",
    "                         \"Most Memorable Characteristics\", 1\n",
    "                        ).most_common(10),\n",
    "                        columns = [\"Most Memorable Characteristics\", \"Count\"]\n",
    "                        )\n",
    "# plot\n",
    "sns.barplot(data = df_characteristics,\n",
    "            y = \"Most Memorable Characteristics\",\n",
    "            x = \"Count\",\n",
    "            palette = sns.color_palette(\"husl\", 10))\n",
    "\n",
    "plt.ylabel(\"\", fontsize=15)\n",
    "plt.xlabel(\"Count\", fontsize=15)\n",
    "plt.title(\"Top 10 Most Valued Characteristics among the best bars\", fontsize=20)\n",
    "plt.show()"
   ]
  },
  {
   "cell_type": "markdown",
   "metadata": {},
   "source": [
    "Above we can see the most popular characterists among the best bars. It would be good to check the popularity of combinations of them, to combine the tastes correctly. How can we know if e.g. cocoa and creamy goes well together?"
   ]
  },
  {
   "cell_type": "code",
   "execution_count": 56,
   "metadata": {},
   "outputs": [
    {
     "data": {
      "image/png": "[encoded data removed]",
      "text/plain": [
       "<Figure size 842.4x595.44 with 1 Axes>"
      ]
     },
     "metadata": {},
     "output_type": "display_data"
    }
   ],
   "source": [
    "df = df_best\n",
    "# find the most common characteristics using the previously defined function count_substrings\n",
    "df_characteristics = pd.DataFrame(\n",
    "                        count_substrings(df, \n",
    "                            \"Most Memorable Characteristics\", \n",
    "                            2 # Here we take 2 characteristics\n",
    "                        ).most_common(10),\n",
    "                        columns = [\"Most Memorable Characteristics\", \"Count\"]\n",
    "                        )\n",
    "# plot\n",
    "sns.barplot(data = df_characteristics,\n",
    "            y = \"Most Memorable Characteristics\",\n",
    "            x = \"Count\",\n",
    "            palette = sns.color_palette(\"husl\", 10))\n",
    "plt.ylabel(\"\", fontsize=15)\n",
    "plt.xlabel(\"Count\", fontsize=15)\n",
    "plt.title(\"Top 10 Most Valued Combinations of Characteristics among the best bars\", fontsize=20)\n",
    "plt.show()"
   ]
  },
  {
   "cell_type": "markdown",
   "metadata": {},
   "source": [
    "We can see that cocoa appears in 4 out of 10 most popular combinations. This is also true for the characteristic \"nutty\".\n",
    "\n",
    "**Conclusion**: The most popular choice for a good chocolate bar would be a bar remembered for the taste of cocoa and creaminess. We also see that both creamy and nutty as well as cocoa and nutty go well together. \n",
    "\n",
    "Altogether, cocoa + creamy + nutty could be a good base."
   ]
  },
  {
   "cell_type": "markdown",
   "metadata": {},
   "source": [
    "### Q4: Is there a difference between the ingredients of the very best bars compared to to the very worst bars?"
   ]
  },
  {
   "cell_type": "markdown",
   "metadata": {},
   "source": [
    "The legend:\n",
    "\n",
    "B = Beans, \n",
    "\n",
    "S = Sugar, \n",
    "\n",
    "S* = Sweetener other than white cane or beet sugar, \n",
    "\n",
    "C = Cocoa Butter, \n",
    "\n",
    "V = Vanilla, \n",
    "\n",
    "L = Lecithin, \n",
    "\n",
    "Sa = Salt"
   ]
  },
  {
   "cell_type": "code",
   "execution_count": 57,
   "metadata": {},
   "outputs": [
    {
     "data": {
      "image/png": "[encoded data removed]",
      "text/plain": [
       "<Figure size 842.4x595.44 with 1 Axes>"
      ]
     },
     "metadata": {},
     "output_type": "display_data"
    }
   ],
   "source": [
    "# remove the rows with NaNs as ingredients\n",
    "df = df_best.dropna()\n",
    "\n",
    "# use the previously defined function to make a plot\n",
    "countplot_with_percentages(df.sort_values(\"Number of Ingredients\"), \n",
    "                           \"Number of Ingredients\")\n",
    "\n",
    "# specify details of the plot\n",
    "plt.ylabel(\"Count of bars\", fontsize=15)\n",
    "plt.xlabel(\"Number of Ingredients\", fontsize=15)\n",
    "plt.title(\"Count of the best chocolate bars by Number of Ingredients\", fontsize=20)\n",
    "plt.xticks(rotation=0, fontsize=12)\n",
    "plt.show()\n",
    "\n",
    "\n",
    "\n"
   ]
  },
  {
   "cell_type": "code",
   "execution_count": 58,
   "metadata": {},
   "outputs": [
    {
     "name": "stdout",
     "output_type": "stream",
     "text": [
      "We have 863 best chocolate bars in the dataset.\n",
      "We have 506 worst chocolate bars in the dataset.\n"
     ]
    },
    {
     "data": {
      "text/html": [
       "<style  type=\"text/css\" >\n",
       "#T_da230931_6b24_11eb_aeab_dd0d00fe73d1row0_col2{\n",
       "            width:  10em;\n",
       "             height:  80%;\n",
       "            background:  linear-gradient(90deg, transparent 34.1%, #5fba7d 34.1%, #5fba7d 100.0%, transparent 100.0%);\n",
       "        }#T_da230931_6b24_11eb_aeab_dd0d00fe73d1row1_col2{\n",
       "            width:  10em;\n",
       "             height:  80%;\n",
       "            background:  linear-gradient(90deg, transparent 34.1%, #5fba7d 34.1%, #5fba7d 41.1%, transparent 41.1%);\n",
       "        }#T_da230931_6b24_11eb_aeab_dd0d00fe73d1row2_col2{\n",
       "            width:  10em;\n",
       "             height:  80%;\n",
       "            background:  linear-gradient(90deg, transparent 34.1%, #5fba7d 34.1%, #5fba7d 36.2%, transparent 36.2%);\n",
       "        }#T_da230931_6b24_11eb_aeab_dd0d00fe73d1row3_col2{\n",
       "            width:  10em;\n",
       "             height:  80%;\n",
       "            background:  linear-gradient(90deg, transparent 20.0%, #d65f5f 20.0%, #d65f5f 34.1%, transparent 34.1%);\n",
       "        }#T_da230931_6b24_11eb_aeab_dd0d00fe73d1row4_col2{\n",
       "            width:  10em;\n",
       "             height:  80%;\n",
       "            background:  linear-gradient(90deg,#d65f5f 34.1%, transparent 34.1%);\n",
       "        }#T_da230931_6b24_11eb_aeab_dd0d00fe73d1row5_col2{\n",
       "            width:  10em;\n",
       "             height:  80%;\n",
       "            background:  linear-gradient(90deg, transparent 34.1%, #5fba7d 34.1%, #5fba7d 34.7%, transparent 34.7%);\n",
       "        }#T_da230931_6b24_11eb_aeab_dd0d00fe73d1row6_col2{\n",
       "            width:  10em;\n",
       "             height:  80%;\n",
       "            background:  linear-gradient(90deg, transparent 25.9%, #d65f5f 25.9%, #d65f5f 34.1%, transparent 34.1%);\n",
       "        }#T_da230931_6b24_11eb_aeab_dd0d00fe73d1row7_col2{\n",
       "            width:  10em;\n",
       "             height:  80%;\n",
       "            background:  linear-gradient(90deg, transparent 34.1%, #5fba7d 34.1%, #5fba7d 34.2%, transparent 34.2%);\n",
       "        }#T_da230931_6b24_11eb_aeab_dd0d00fe73d1row8_col2{\n",
       "            width:  10em;\n",
       "             height:  80%;\n",
       "            background:  linear-gradient(90deg, transparent 32.9%, #d65f5f 32.9%, #d65f5f 34.1%, transparent 34.1%);\n",
       "        }#T_da230931_6b24_11eb_aeab_dd0d00fe73d1row9_col2,#T_da230931_6b24_11eb_aeab_dd0d00fe73d1row10_col2{\n",
       "            width:  10em;\n",
       "             height:  80%;\n",
       "            background:  linear-gradient(90deg, transparent 32.0%, #d65f5f 32.0%, #d65f5f 34.1%, transparent 34.1%);\n",
       "        }#T_da230931_6b24_11eb_aeab_dd0d00fe73d1row11_col2{\n",
       "            width:  10em;\n",
       "             height:  80%;\n",
       "            background:  linear-gradient(90deg, transparent 28.5%, #d65f5f 28.5%, #d65f5f 34.1%, transparent 34.1%);\n",
       "        }#T_da230931_6b24_11eb_aeab_dd0d00fe73d1row12_col2,#T_da230931_6b24_11eb_aeab_dd0d00fe73d1row14_col2,#T_da230931_6b24_11eb_aeab_dd0d00fe73d1row16_col2{\n",
       "            width:  10em;\n",
       "             height:  80%;\n",
       "            background:  linear-gradient(90deg, transparent 33.2%, #d65f5f 33.2%, #d65f5f 34.1%, transparent 34.1%);\n",
       "        }#T_da230931_6b24_11eb_aeab_dd0d00fe73d1row13_col2{\n",
       "            width:  10em;\n",
       "             height:  80%;\n",
       "            background:  linear-gradient(90deg, transparent 30.6%, #d65f5f 30.6%, #d65f5f 34.1%, transparent 34.1%);\n",
       "        }#T_da230931_6b24_11eb_aeab_dd0d00fe73d1row15_col2{\n",
       "            width:  10em;\n",
       "             height:  80%;\n",
       "            background:  linear-gradient(90deg, transparent 31.5%, #d65f5f 31.5%, #d65f5f 34.1%, transparent 34.1%);\n",
       "        }</style><table id=\"T_da230931_6b24_11eb_aeab_dd0d00fe73d1\" ><thead>    <tr>        <th class=\"blank level0\" ></th>        <th class=\"col_heading level0 col0\" >% in best bars</th>        <th class=\"col_heading level0 col1\" >% in worst bars</th>        <th class=\"col_heading level0 col2\" >the difference</th>    </tr></thead><tbody>\n",
       "                <tr>\n",
       "                        <th id=\"T_da230931_6b24_11eb_aeab_dd0d00fe73d1level0_row0\" class=\"row_heading level0 row0\" >Beans + Sugar + Cocoa Butter</th>\n",
       "                        <td id=\"T_da230931_6b24_11eb_aeab_dd0d00fe73d1row0_col0\" class=\"data row0 col0\" >45.3%</td>\n",
       "                        <td id=\"T_da230931_6b24_11eb_aeab_dd0d00fe73d1row0_col1\" class=\"data row0 col1\" >30.2%</td>\n",
       "                        <td id=\"T_da230931_6b24_11eb_aeab_dd0d00fe73d1row0_col2\" class=\"data row0 col2\" >15.1%</td>\n",
       "            </tr>\n",
       "            <tr>\n",
       "                        <th id=\"T_da230931_6b24_11eb_aeab_dd0d00fe73d1level0_row1\" class=\"row_heading level0 row1\" >Beans + Sugar</th>\n",
       "                        <td id=\"T_da230931_6b24_11eb_aeab_dd0d00fe73d1row1_col0\" class=\"data row1 col0\" >29.1%</td>\n",
       "                        <td id=\"T_da230931_6b24_11eb_aeab_dd0d00fe73d1row1_col1\" class=\"data row1 col1\" >27.5%</td>\n",
       "                        <td id=\"T_da230931_6b24_11eb_aeab_dd0d00fe73d1row1_col2\" class=\"data row1 col2\" >1.6%</td>\n",
       "            </tr>\n",
       "            <tr>\n",
       "                        <th id=\"T_da230931_6b24_11eb_aeab_dd0d00fe73d1level0_row2\" class=\"row_heading level0 row2\" >Beans + Sugar + Cocoa Butter + Lecithin</th>\n",
       "                        <td id=\"T_da230931_6b24_11eb_aeab_dd0d00fe73d1row2_col0\" class=\"data row2 col0\" >12.7%</td>\n",
       "                        <td id=\"T_da230931_6b24_11eb_aeab_dd0d00fe73d1row2_col1\" class=\"data row2 col1\" >12.3%</td>\n",
       "                        <td id=\"T_da230931_6b24_11eb_aeab_dd0d00fe73d1row2_col2\" class=\"data row2 col2\" >0.5%</td>\n",
       "            </tr>\n",
       "            <tr>\n",
       "                        <th id=\"T_da230931_6b24_11eb_aeab_dd0d00fe73d1level0_row3\" class=\"row_heading level0 row3\" >Beans + Sugar + Cocoa Butter + Vanilla + Lecithin</th>\n",
       "                        <td id=\"T_da230931_6b24_11eb_aeab_dd0d00fe73d1row3_col0\" class=\"data row3 col0\" >7.1%</td>\n",
       "                        <td id=\"T_da230931_6b24_11eb_aeab_dd0d00fe73d1row3_col1\" class=\"data row3 col1\" >10.3%</td>\n",
       "                        <td id=\"T_da230931_6b24_11eb_aeab_dd0d00fe73d1row3_col2\" class=\"data row3 col2\" >-3.2%</td>\n",
       "            </tr>\n",
       "            <tr>\n",
       "                        <th id=\"T_da230931_6b24_11eb_aeab_dd0d00fe73d1level0_row4\" class=\"row_heading level0 row4\" >Beans + Sugar + Cocoa Butter + Vanilla</th>\n",
       "                        <td id=\"T_da230931_6b24_11eb_aeab_dd0d00fe73d1row4_col0\" class=\"data row4 col0\" >3.5%</td>\n",
       "                        <td id=\"T_da230931_6b24_11eb_aeab_dd0d00fe73d1row4_col1\" class=\"data row4 col1\" >11.3%</td>\n",
       "                        <td id=\"T_da230931_6b24_11eb_aeab_dd0d00fe73d1row4_col2\" class=\"data row4 col2\" >-7.8%</td>\n",
       "            </tr>\n",
       "            <tr>\n",
       "                        <th id=\"T_da230931_6b24_11eb_aeab_dd0d00fe73d1level0_row5\" class=\"row_heading level0 row5\" >Beans + Sweetener + Cocoa Butter + Salt</th>\n",
       "                        <td id=\"T_da230931_6b24_11eb_aeab_dd0d00fe73d1row5_col0\" class=\"data row5 col0\" >0.9%</td>\n",
       "                        <td id=\"T_da230931_6b24_11eb_aeab_dd0d00fe73d1row5_col1\" class=\"data row5 col1\" >0.8%</td>\n",
       "                        <td id=\"T_da230931_6b24_11eb_aeab_dd0d00fe73d1row5_col2\" class=\"data row5 col2\" >0.1%</td>\n",
       "            </tr>\n",
       "            <tr>\n",
       "                        <th id=\"T_da230931_6b24_11eb_aeab_dd0d00fe73d1level0_row6\" class=\"row_heading level0 row6\" >Beans + Sweetener</th>\n",
       "                        <td id=\"T_da230931_6b24_11eb_aeab_dd0d00fe73d1row6_col0\" class=\"data row6 col0\" >0.7%</td>\n",
       "                        <td id=\"T_da230931_6b24_11eb_aeab_dd0d00fe73d1row6_col1\" class=\"data row6 col1\" >2.6%</td>\n",
       "                        <td id=\"T_da230931_6b24_11eb_aeab_dd0d00fe73d1row6_col2\" class=\"data row6 col2\" >-1.9%</td>\n",
       "            </tr>\n",
       "            <tr>\n",
       "                        <th id=\"T_da230931_6b24_11eb_aeab_dd0d00fe73d1level0_row7\" class=\"row_heading level0 row7\" >Beans + Sugar + Vanilla</th>\n",
       "                        <td id=\"T_da230931_6b24_11eb_aeab_dd0d00fe73d1row7_col0\" class=\"data row7 col0\" >0.2%</td>\n",
       "                        <td id=\"T_da230931_6b24_11eb_aeab_dd0d00fe73d1row7_col1\" class=\"data row7 col1\" >0.2%</td>\n",
       "                        <td id=\"T_da230931_6b24_11eb_aeab_dd0d00fe73d1row7_col2\" class=\"data row7 col2\" >0.0%</td>\n",
       "            </tr>\n",
       "            <tr>\n",
       "                        <th id=\"T_da230931_6b24_11eb_aeab_dd0d00fe73d1level0_row8\" class=\"row_heading level0 row8\" >Beans</th>\n",
       "                        <td id=\"T_da230931_6b24_11eb_aeab_dd0d00fe73d1row8_col0\" class=\"data row8 col0\" >0.1%</td>\n",
       "                        <td id=\"T_da230931_6b24_11eb_aeab_dd0d00fe73d1row8_col1\" class=\"data row8 col1\" >0.4%</td>\n",
       "                        <td id=\"T_da230931_6b24_11eb_aeab_dd0d00fe73d1row8_col2\" class=\"data row8 col2\" >-0.3%</td>\n",
       "            </tr>\n",
       "            <tr>\n",
       "                        <th id=\"T_da230931_6b24_11eb_aeab_dd0d00fe73d1level0_row9\" class=\"row_heading level0 row9\" >Beans + Sugar + Cocoa Butter + Vanilla + Lecithin + Salt</th>\n",
       "                        <td id=\"T_da230931_6b24_11eb_aeab_dd0d00fe73d1row9_col0\" class=\"data row9 col0\" >0.1%</td>\n",
       "                        <td id=\"T_da230931_6b24_11eb_aeab_dd0d00fe73d1row9_col1\" class=\"data row9 col1\" >0.6%</td>\n",
       "                        <td id=\"T_da230931_6b24_11eb_aeab_dd0d00fe73d1row9_col2\" class=\"data row9 col2\" >-0.5%</td>\n",
       "            </tr>\n",
       "            <tr>\n",
       "                        <th id=\"T_da230931_6b24_11eb_aeab_dd0d00fe73d1level0_row10\" class=\"row_heading level0 row10\" >Beans + Sugar + Vanilla + Lecithin</th>\n",
       "                        <td id=\"T_da230931_6b24_11eb_aeab_dd0d00fe73d1row10_col0\" class=\"data row10 col0\" >0.1%</td>\n",
       "                        <td id=\"T_da230931_6b24_11eb_aeab_dd0d00fe73d1row10_col1\" class=\"data row10 col1\" >0.6%</td>\n",
       "                        <td id=\"T_da230931_6b24_11eb_aeab_dd0d00fe73d1row10_col2\" class=\"data row10 col2\" >-0.5%</td>\n",
       "            </tr>\n",
       "            <tr>\n",
       "                        <th id=\"T_da230931_6b24_11eb_aeab_dd0d00fe73d1level0_row11\" class=\"row_heading level0 row11\" >Beans + Sweetener + Cocoa Butter</th>\n",
       "                        <td id=\"T_da230931_6b24_11eb_aeab_dd0d00fe73d1row11_col0\" class=\"data row11 col0\" >0.1%</td>\n",
       "                        <td id=\"T_da230931_6b24_11eb_aeab_dd0d00fe73d1row11_col1\" class=\"data row11 col1\" >1.4%</td>\n",
       "                        <td id=\"T_da230931_6b24_11eb_aeab_dd0d00fe73d1row11_col2\" class=\"data row11 col2\" >-1.3%</td>\n",
       "            </tr>\n",
       "            <tr>\n",
       "                        <th id=\"T_da230931_6b24_11eb_aeab_dd0d00fe73d1level0_row12\" class=\"row_heading level0 row12\" >Beans + Sweetener + Cocoa Butter + Vanilla</th>\n",
       "                        <td id=\"T_da230931_6b24_11eb_aeab_dd0d00fe73d1row12_col0\" class=\"data row12 col0\" >0.0%</td>\n",
       "                        <td id=\"T_da230931_6b24_11eb_aeab_dd0d00fe73d1row12_col1\" class=\"data row12 col1\" >0.2%</td>\n",
       "                        <td id=\"T_da230931_6b24_11eb_aeab_dd0d00fe73d1row12_col2\" class=\"data row12 col2\" >-0.2%</td>\n",
       "            </tr>\n",
       "            <tr>\n",
       "                        <th id=\"T_da230931_6b24_11eb_aeab_dd0d00fe73d1level0_row13\" class=\"row_heading level0 row13\" >Beans + Sugar + Lecithin</th>\n",
       "                        <td id=\"T_da230931_6b24_11eb_aeab_dd0d00fe73d1row13_col0\" class=\"data row13 col0\" >0.0%</td>\n",
       "                        <td id=\"T_da230931_6b24_11eb_aeab_dd0d00fe73d1row13_col1\" class=\"data row13 col1\" >0.8%</td>\n",
       "                        <td id=\"T_da230931_6b24_11eb_aeab_dd0d00fe73d1row13_col2\" class=\"data row13 col2\" >-0.8%</td>\n",
       "            </tr>\n",
       "            <tr>\n",
       "                        <th id=\"T_da230931_6b24_11eb_aeab_dd0d00fe73d1level0_row14\" class=\"row_heading level0 row14\" >Beans + Sweetener + Cocoa Butter + Lecithin</th>\n",
       "                        <td id=\"T_da230931_6b24_11eb_aeab_dd0d00fe73d1row14_col0\" class=\"data row14 col0\" >0.0%</td>\n",
       "                        <td id=\"T_da230931_6b24_11eb_aeab_dd0d00fe73d1row14_col1\" class=\"data row14 col1\" >0.2%</td>\n",
       "                        <td id=\"T_da230931_6b24_11eb_aeab_dd0d00fe73d1row14_col2\" class=\"data row14 col2\" >-0.2%</td>\n",
       "            </tr>\n",
       "            <tr>\n",
       "                        <th id=\"T_da230931_6b24_11eb_aeab_dd0d00fe73d1level0_row15\" class=\"row_heading level0 row15\" >Beans + Sugar + Cocoa Butter + Vanilla + Salt</th>\n",
       "                        <td id=\"T_da230931_6b24_11eb_aeab_dd0d00fe73d1row15_col0\" class=\"data row15 col0\" >0.0%</td>\n",
       "                        <td id=\"T_da230931_6b24_11eb_aeab_dd0d00fe73d1row15_col1\" class=\"data row15 col1\" >0.6%</td>\n",
       "                        <td id=\"T_da230931_6b24_11eb_aeab_dd0d00fe73d1row15_col2\" class=\"data row15 col2\" >-0.6%</td>\n",
       "            </tr>\n",
       "            <tr>\n",
       "                        <th id=\"T_da230931_6b24_11eb_aeab_dd0d00fe73d1level0_row16\" class=\"row_heading level0 row16\" >Beans + Sweetener + Salt</th>\n",
       "                        <td id=\"T_da230931_6b24_11eb_aeab_dd0d00fe73d1row16_col0\" class=\"data row16 col0\" >0.0%</td>\n",
       "                        <td id=\"T_da230931_6b24_11eb_aeab_dd0d00fe73d1row16_col1\" class=\"data row16 col1\" >0.2%</td>\n",
       "                        <td id=\"T_da230931_6b24_11eb_aeab_dd0d00fe73d1row16_col2\" class=\"data row16 col2\" >-0.2%</td>\n",
       "            </tr>\n",
       "    </tbody></table>"
      ],
      "text/plain": [
       "<pandas.io.formats.style.Styler at 0x1cd31969160>"
      ]
     },
     "execution_count": 58,
     "metadata": {},
     "output_type": "execute_result"
    }
   ],
   "source": [
    "# legend to get the ingredient names\n",
    "legend_dict = {'B' : 'Beans',\n",
    "               'S' : 'Sugar',\n",
    "               'S*' : 'Sweetener',\n",
    "               'C' : 'Cocoa Butter',\n",
    "               'V' : 'Vanilla',\n",
    "               'L' : 'Lecithin',\n",
    "               'Sa' : 'Salt'}\n",
    "\n",
    "# function to replace the codes with the ingredient names\n",
    "def replace_ingredient_code(string: str, delimeter: str = ','):\n",
    "    \"\"\"\n",
    "    Replace the code names in the string name with the ingredient names.\n",
    "    \n",
    "    INPUT:\n",
    "    string (str) - string with the codes\n",
    "    delimeter (str) - a delimeter that divides the codes\n",
    "    \"\"\"\n",
    "    new_string = string + delimeter\n",
    "    for code, description in legend_dict.items():\n",
    "        new_string = new_string.replace(code+delimeter, description+' + ')\n",
    "    return new_string[:-3]\n",
    "        \n",
    "\n",
    "# value count of ingredients of the best chocolate bars\n",
    "df1 = pd.DataFrame(df_best[\"Ingredients listed\"]\n",
    "             .dropna()\n",
    "             .apply(replace_ingredient_code)\n",
    "             .value_counts(normalize=True))\n",
    "df1.columns = [\"% in best bars\"]\n",
    "\n",
    "print(\"We have\", len(df_best[\"Ingredients listed\"].dropna()), \"best chocolate bars in the dataset.\")\n",
    "\n",
    "# value count of ingredients of the worst chocolate bars\n",
    "df2 = pd.DataFrame(df_worst[\"Ingredients listed\"]\n",
    "             .dropna()\n",
    "             .apply(replace_ingredient_code)\n",
    "             .value_counts(normalize=True))\n",
    "df2.columns = [\"% in worst bars\"]\n",
    "print(\"We have\", len(df_worst[\"Ingredients listed\"].dropna()), \"worst chocolate bars in the dataset.\")\n",
    "\n",
    "# merge the two for comparison\n",
    "df_ingredients_freq = (df1.merge(df2, \n",
    "                                how=\"outer\", \n",
    "                                left_index = True, \n",
    "                                right_index = True)\n",
    "                                .fillna(0))\n",
    "df_ingredients_freq [\"the difference\"] = (df_ingredients_freq [\"% in best bars\"] \n",
    "                                          - df_ingredients_freq [\"% in worst bars\"])\n",
    "\n",
    "# make a df with styling \n",
    "(df_ingredients_freq.sort_values(\"% in best bars\", ascending = False)\n",
    "                   .style.bar(subset=['the difference'], \n",
    "                              align='mid', \n",
    "                              color=['#d65f5f', '#5fba7d'])\n",
    "                   .format('{:.1%}')\n",
    ")"
   ]
  },
  {
   "cell_type": "markdown",
   "metadata": {},
   "source": [
    "**Conclusion**: The most popular choice among the best chocolate bars is the combination of Beans, Sugar and Cocoa Butter. This choice is much more popular among the best bars in comparison to the worst bars."
   ]
  }
 ],
 "metadata": {
  "kernelspec": {
   "display_name": "Python 3",
   "language": "python",
   "name": "python3"
  },
  "language_info": {
   "codemirror_mode": {
    "name": "ipython",
    "version": 3
   },
   "file_extension": ".py",
   "mimetype": "text/x-python",
   "name": "python",
   "nbconvert_exporter": "python",
   "pygments_lexer": "ipython3",
   "version": "3.8.5"
  }
 },
 "nbformat": 4,
 "nbformat_minor": 4
}
